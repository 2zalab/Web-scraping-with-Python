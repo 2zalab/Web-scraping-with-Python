{
  "nbformat": 4,
  "nbformat_minor": 0,
  "metadata": {
    "colab": {
      "provenance": [],
      "authorship_tag": "ABX9TyM7+qzL8rIzJSpmYXHbeM64",
      "include_colab_link": true
    },
    "kernelspec": {
      "name": "python3",
      "display_name": "Python 3"
    },
    "language_info": {
      "name": "python"
    }
  },
  "cells": [
    {
      "cell_type": "markdown",
      "metadata": {
        "id": "view-in-github",
        "colab_type": "text"
      },
      "source": [
        "<a href=\"https://colab.research.google.com/github/Touza-Isaac/Web-scraping-with-Python/blob/delete/Recuperation_du_tableau_sur_un_site_avec_python.ipynb\" target=\"_parent\"><img src=\"https://colab.research.google.com/assets/colab-badge.svg\" alt=\"Open In Colab\"/></a>"
      ]
    },
    {
      "cell_type": "code",
      "source": [
        "#pip install requests"
      ],
      "metadata": {
        "id": "IPPEGhzqfGJn"
      },
      "execution_count": null,
      "outputs": []
    },
    {
      "cell_type": "markdown",
      "source": [
        "# Importer les bibliothèques"
      ],
      "metadata": {
        "id": "WAm_kUctfSCK"
      }
    },
    {
      "cell_type": "code",
      "execution_count": null,
      "metadata": {
        "id": "lwux1_uCd2OL"
      },
      "outputs": [],
      "source": [
        "import urllib\n",
        "import bs4\n",
        "import pandas\n",
        "from urllib import request\n",
        "import os\n",
        "import requests"
      ]
    },
    {
      "cell_type": "markdown",
      "source": [
        "# Etape 1 : se connecter à la page wikipedia et obtenir le code source"
      ],
      "metadata": {
        "id": "2hgbxnSvfi8d"
      }
    },
    {
      "cell_type": "code",
      "source": [
        "url_ligue_1 = \"https://fr.wikipedia.org/wiki/Championnat_de_France_de_football_2019-2020\"\n",
        "request_text = request.urlopen(url_ligue_1).read()\n",
        "#request_text = requests.get(url_ligue_1)"
      ],
      "metadata": {
        "id": "eCOwbzabfiqv"
      },
      "execution_count": null,
      "outputs": []
    },
    {
      "cell_type": "code",
      "source": [
        "request_text"
      ],
      "metadata": {
        "id": "nbalDD0qgAG8"
      },
      "execution_count": null,
      "outputs": []
    },
    {
      "cell_type": "markdown",
      "source": [
        "# Etape 2 Formatage du contenu au format html"
      ],
      "metadata": {
        "id": "agFCtutqhx1Y"
      }
    },
    {
      "cell_type": "code",
      "source": [
        "page = bs4.BeautifulSoup(request_text,'html.parser')"
      ],
      "metadata": {
        "id": "b33LKChSgBW-"
      },
      "execution_count": null,
      "outputs": []
    },
    {
      "cell_type": "code",
      "source": [
        "print(page)"
      ],
      "metadata": {
        "id": "YB7Whwheh8BQ"
      },
      "execution_count": null,
      "outputs": []
    },
    {
      "cell_type": "code",
      "source": [
        "# affichage du titre de la page\n",
        "print(page.find( \"title\" ))"
      ],
      "metadata": {
        "colab": {
          "base_uri": "https://localhost:8080/"
        },
        "id": "qpADWMBHi_wp",
        "outputId": "d2d3be06-e892-424e-c6c7-66e590e39622"
      },
      "execution_count": null,
      "outputs": [
        {
          "output_type": "stream",
          "name": "stdout",
          "text": [
            "<title>Championnat de France de football 2019-2020 — Wikipédia</title>\n"
          ]
        }
      ]
    },
    {
      "cell_type": "markdown",
      "source": [
        "# Etape 3: recuperation de tous les tableaux de la page"
      ],
      "metadata": {
        "id": "n1E8Qnr0jY76"
      }
    },
    {
      "cell_type": "code",
      "source": [
        "table = page.findAll(\"table\")"
      ],
      "metadata": {
        "id": "-vPJJVA9jCIN"
      },
      "execution_count": null,
      "outputs": []
    },
    {
      "cell_type": "code",
      "source": [
        "#Affichage des tableaux\n",
        "table"
      ],
      "metadata": {
        "id": "un257iXejfM3"
      },
      "execution_count": null,
      "outputs": []
    },
    {
      "cell_type": "code",
      "source": [
        "len(table)"
      ],
      "metadata": {
        "colab": {
          "base_uri": "https://localhost:8080/"
        },
        "id": "1SkFMKEOjini",
        "outputId": "38bee6fd-987e-4ad0-849a-8d3d6d760c19"
      },
      "execution_count": null,
      "outputs": [
        {
          "output_type": "execute_result",
          "data": {
            "text/plain": [
              "34"
            ]
          },
          "metadata": {},
          "execution_count": 13
        }
      ]
    },
    {
      "cell_type": "markdown",
      "source": [
        "# 1- Identification du tableau des participants"
      ],
      "metadata": {
        "id": "r8BnOoPloZXk"
      }
    },
    {
      "cell_type": "code",
      "source": [
        "#1- Trouver le tableau\n",
        "# on identifie le tableau en question : c'est le premier qui a cette classe \"wikitable sortable\"\n",
        "tableau_participants = page.find( 'table' , {'class'  : 'wikitable sortable' })\n",
        "print(tableau_participants)"
      ],
      "metadata": {
        "id": "UUGcZkJ1jl7X"
      },
      "execution_count": null,
      "outputs": []
    },
    {
      "cell_type": "markdown",
      "source": [
        "# 2 - Récupérer chaque ligne du tableau"
      ],
      "metadata": {
        "id": "Qj8doE6wpzc5"
      }
    },
    {
      "cell_type": "code",
      "source": [
        "table_body = tableau_participants. find( 'tbody' )\n",
        "# on recherche toutes les lignes du tableau avec la balise \"tr\"\n",
        "rows = table_body.find_all( 'tr' )\n",
        "# on obtient une liste où chaque élément est une des lignes du tableau\n",
        "# par exemple la première ligne va correspondre aux entêtes de colonne\n",
        "print(rows[ 0])"
      ],
      "metadata": {
        "id": "j-XX4VSept4n"
      },
      "execution_count": null,
      "outputs": []
    },
    {
      "cell_type": "code",
      "source": [
        "cols = rows[1] . find_all( 'td' )\n",
        "print(cols[0])\n",
        "print(cols[ 0] . text. strip())"
      ],
      "metadata": {
        "id": "Qu6_PUPAqHvu"
      },
      "execution_count": null,
      "outputs": []
    },
    {
      "cell_type": "code",
      "source": [
        "#Généraliser sur toutes les lignes\n",
        "for row in rows:\n",
        " cols = row. find_all( 'td' )\n",
        " cols = [ele. text. strip() for ele in cols]\n",
        " print(cols)"
      ],
      "metadata": {
        "id": "T6ca6lBIsStR"
      },
      "execution_count": null,
      "outputs": []
    },
    {
      "cell_type": "code",
      "source": [
        "dico_participants = dict()\n",
        "for row in rows:\n",
        " cols = row. find_all( 'td' )\n",
        " cols = [ele. text. strip() for ele in cols]\n",
        " if len(cols) > 0 :\n",
        "   dico_participants[cols[0]] = cols[1:]\n",
        "\n",
        "#Affichage\n",
        "dico_participants"
      ],
      "metadata": {
        "id": "sCPIOEVAuQ7i"
      },
      "execution_count": null,
      "outputs": []
    },
    {
      "cell_type": "code",
      "source": [
        "data_participants = pandas. DataFrame. from_dict(dico_participants,orient='index' )\n",
        "data_participants. head()"
      ],
      "metadata": {
        "colab": {
          "base_uri": "https://localhost:8080/",
          "height": 336
        },
        "id": "Zy0JUFFgvHuQ",
        "outputId": "e48a1810-697c-4a32-bf01-fe5640e268f4"
      },
      "execution_count": null,
      "outputs": [
        {
          "output_type": "execute_result",
          "data": {
            "text/plain": [
              "                           0    1    2                   3     4  \\\n",
              "Paris Saint-Germain     1974  637  1er       Thomas Tuchel  2018   \n",
              "LOSC Lille              2000  120   2e  Christophe Galtier  2017   \n",
              "Olympique lyonnais      1989  310   3e         Rudi Garcia  2019   \n",
              "AS Saint-Étienne        2004  100   4e         Claude Puel  2019   \n",
              "Olympique de Marseille  1996  110   5e   André Villas-Boas  2019   \n",
              "\n",
              "                                              5       6   7  \n",
              "Paris Saint-Germain            Parc des Princes  47 929  46  \n",
              "LOSC Lille                  Stade Pierre-Mauroy  49 712  59  \n",
              "Olympique lyonnais             Groupama Stadium  57 206  60  \n",
              "AS Saint-Étienne        Stade Geoffroy-Guichard  41 965  66  \n",
              "Olympique de Marseille         Orange Vélodrome  66 226  69  "
            ],
            "text/html": [
              "\n",
              "  <div id=\"df-702484c2-db6e-4179-a82c-af4a44a7dd64\">\n",
              "    <div class=\"colab-df-container\">\n",
              "      <div>\n",
              "<style scoped>\n",
              "    .dataframe tbody tr th:only-of-type {\n",
              "        vertical-align: middle;\n",
              "    }\n",
              "\n",
              "    .dataframe tbody tr th {\n",
              "        vertical-align: top;\n",
              "    }\n",
              "\n",
              "    .dataframe thead th {\n",
              "        text-align: right;\n",
              "    }\n",
              "</style>\n",
              "<table border=\"1\" class=\"dataframe\">\n",
              "  <thead>\n",
              "    <tr style=\"text-align: right;\">\n",
              "      <th></th>\n",
              "      <th>0</th>\n",
              "      <th>1</th>\n",
              "      <th>2</th>\n",
              "      <th>3</th>\n",
              "      <th>4</th>\n",
              "      <th>5</th>\n",
              "      <th>6</th>\n",
              "      <th>7</th>\n",
              "    </tr>\n",
              "  </thead>\n",
              "  <tbody>\n",
              "    <tr>\n",
              "      <th>Paris Saint-Germain</th>\n",
              "      <td>1974</td>\n",
              "      <td>637</td>\n",
              "      <td>1er</td>\n",
              "      <td>Thomas Tuchel</td>\n",
              "      <td>2018</td>\n",
              "      <td>Parc des Princes</td>\n",
              "      <td>47 929</td>\n",
              "      <td>46</td>\n",
              "    </tr>\n",
              "    <tr>\n",
              "      <th>LOSC Lille</th>\n",
              "      <td>2000</td>\n",
              "      <td>120</td>\n",
              "      <td>2e</td>\n",
              "      <td>Christophe Galtier</td>\n",
              "      <td>2017</td>\n",
              "      <td>Stade Pierre-Mauroy</td>\n",
              "      <td>49 712</td>\n",
              "      <td>59</td>\n",
              "    </tr>\n",
              "    <tr>\n",
              "      <th>Olympique lyonnais</th>\n",
              "      <td>1989</td>\n",
              "      <td>310</td>\n",
              "      <td>3e</td>\n",
              "      <td>Rudi Garcia</td>\n",
              "      <td>2019</td>\n",
              "      <td>Groupama Stadium</td>\n",
              "      <td>57 206</td>\n",
              "      <td>60</td>\n",
              "    </tr>\n",
              "    <tr>\n",
              "      <th>AS Saint-Étienne</th>\n",
              "      <td>2004</td>\n",
              "      <td>100</td>\n",
              "      <td>4e</td>\n",
              "      <td>Claude Puel</td>\n",
              "      <td>2019</td>\n",
              "      <td>Stade Geoffroy-Guichard</td>\n",
              "      <td>41 965</td>\n",
              "      <td>66</td>\n",
              "    </tr>\n",
              "    <tr>\n",
              "      <th>Olympique de Marseille</th>\n",
              "      <td>1996</td>\n",
              "      <td>110</td>\n",
              "      <td>5e</td>\n",
              "      <td>André Villas-Boas</td>\n",
              "      <td>2019</td>\n",
              "      <td>Orange Vélodrome</td>\n",
              "      <td>66 226</td>\n",
              "      <td>69</td>\n",
              "    </tr>\n",
              "  </tbody>\n",
              "</table>\n",
              "</div>\n",
              "      <button class=\"colab-df-convert\" onclick=\"convertToInteractive('df-702484c2-db6e-4179-a82c-af4a44a7dd64')\"\n",
              "              title=\"Convert this dataframe to an interactive table.\"\n",
              "              style=\"display:none;\">\n",
              "        \n",
              "  <svg xmlns=\"http://www.w3.org/2000/svg\" height=\"24px\"viewBox=\"0 0 24 24\"\n",
              "       width=\"24px\">\n",
              "    <path d=\"M0 0h24v24H0V0z\" fill=\"none\"/>\n",
              "    <path d=\"M18.56 5.44l.94 2.06.94-2.06 2.06-.94-2.06-.94-.94-2.06-.94 2.06-2.06.94zm-11 1L8.5 8.5l.94-2.06 2.06-.94-2.06-.94L8.5 2.5l-.94 2.06-2.06.94zm10 10l.94 2.06.94-2.06 2.06-.94-2.06-.94-.94-2.06-.94 2.06-2.06.94z\"/><path d=\"M17.41 7.96l-1.37-1.37c-.4-.4-.92-.59-1.43-.59-.52 0-1.04.2-1.43.59L10.3 9.45l-7.72 7.72c-.78.78-.78 2.05 0 2.83L4 21.41c.39.39.9.59 1.41.59.51 0 1.02-.2 1.41-.59l7.78-7.78 2.81-2.81c.8-.78.8-2.07 0-2.86zM5.41 20L4 18.59l7.72-7.72 1.47 1.35L5.41 20z\"/>\n",
              "  </svg>\n",
              "      </button>\n",
              "      \n",
              "  <style>\n",
              "    .colab-df-container {\n",
              "      display:flex;\n",
              "      flex-wrap:wrap;\n",
              "      gap: 12px;\n",
              "    }\n",
              "\n",
              "    .colab-df-convert {\n",
              "      background-color: #E8F0FE;\n",
              "      border: none;\n",
              "      border-radius: 50%;\n",
              "      cursor: pointer;\n",
              "      display: none;\n",
              "      fill: #1967D2;\n",
              "      height: 32px;\n",
              "      padding: 0 0 0 0;\n",
              "      width: 32px;\n",
              "    }\n",
              "\n",
              "    .colab-df-convert:hover {\n",
              "      background-color: #E2EBFA;\n",
              "      box-shadow: 0px 1px 2px rgba(60, 64, 67, 0.3), 0px 1px 3px 1px rgba(60, 64, 67, 0.15);\n",
              "      fill: #174EA6;\n",
              "    }\n",
              "\n",
              "    [theme=dark] .colab-df-convert {\n",
              "      background-color: #3B4455;\n",
              "      fill: #D2E3FC;\n",
              "    }\n",
              "\n",
              "    [theme=dark] .colab-df-convert:hover {\n",
              "      background-color: #434B5C;\n",
              "      box-shadow: 0px 1px 3px 1px rgba(0, 0, 0, 0.15);\n",
              "      filter: drop-shadow(0px 1px 2px rgba(0, 0, 0, 0.3));\n",
              "      fill: #FFFFFF;\n",
              "    }\n",
              "  </style>\n",
              "\n",
              "      <script>\n",
              "        const buttonEl =\n",
              "          document.querySelector('#df-702484c2-db6e-4179-a82c-af4a44a7dd64 button.colab-df-convert');\n",
              "        buttonEl.style.display =\n",
              "          google.colab.kernel.accessAllowed ? 'block' : 'none';\n",
              "\n",
              "        async function convertToInteractive(key) {\n",
              "          const element = document.querySelector('#df-702484c2-db6e-4179-a82c-af4a44a7dd64');\n",
              "          const dataTable =\n",
              "            await google.colab.kernel.invokeFunction('convertToInteractive',\n",
              "                                                     [key], {});\n",
              "          if (!dataTable) return;\n",
              "\n",
              "          const docLinkHtml = 'Like what you see? Visit the ' +\n",
              "            '<a target=\"_blank\" href=https://colab.research.google.com/notebooks/data_table.ipynb>data table notebook</a>'\n",
              "            + ' to learn more about interactive tables.';\n",
              "          element.innerHTML = '';\n",
              "          dataTable['output_type'] = 'display_data';\n",
              "          await google.colab.output.renderOutput(dataTable, element);\n",
              "          const docLink = document.createElement('div');\n",
              "          docLink.innerHTML = docLinkHtml;\n",
              "          element.appendChild(docLink);\n",
              "        }\n",
              "      </script>\n",
              "    </div>\n",
              "  </div>\n",
              "  "
            ]
          },
          "metadata": {},
          "execution_count": 25
        }
      ]
    },
    {
      "cell_type": "code",
      "source": [
        "#Récupérer les entêtes du tableau\n",
        "for row in rows:\n",
        " cols = row. find_all( 'th' )\n",
        " #print(cols)\n",
        " if len(cols) > 0 :\n",
        "   cols = [ele. get_text(separator=' ' ). strip() for ele in cols]\n",
        "   columns_participants = cols"
      ],
      "metadata": {
        "id": "ghA6Bk0cwUiX"
      },
      "execution_count": null,
      "outputs": []
    },
    {
      "cell_type": "code",
      "source": [
        "columns_participants"
      ],
      "metadata": {
        "colab": {
          "base_uri": "https://localhost:8080/"
        },
        "id": "DanUX7CdxJ9h",
        "outputId": "ca441ef8-b66a-40e5-ede9-b1c6b8d086f2"
      },
      "execution_count": null,
      "outputs": [
        {
          "output_type": "execute_result",
          "data": {
            "text/plain": [
              "['Club',\n",
              " 'Dernière montée',\n",
              " 'Budget [ 3 ] en M €',\n",
              " 'Classement 2018-2019',\n",
              " 'Entraîneur',\n",
              " 'Depuis',\n",
              " 'Stade',\n",
              " 'Capacité en L1 [ 4 ]',\n",
              " 'Nombre de saisons en L1']"
            ]
          },
          "metadata": {},
          "execution_count": 39
        }
      ]
    },
    {
      "cell_type": "code",
      "source": [
        "# finalisation du tableau\n",
        "data_participants. columns = columns_participants[ 1 :]"
      ],
      "metadata": {
        "id": "cXniVfk7xmU7"
      },
      "execution_count": null,
      "outputs": []
    },
    {
      "cell_type": "code",
      "source": [
        "data_participants"
      ],
      "metadata": {
        "colab": {
          "base_uri": "https://localhost:8080/",
          "height": 1000
        },
        "id": "5COCcvmJx_GF",
        "outputId": "bc02a5cd-d881-42ea-b2e0-b9825b6e5e25"
      },
      "execution_count": null,
      "outputs": [
        {
          "output_type": "execute_result",
          "data": {
            "text/plain": [
              "                       Dernière montée Budget [ 3 ] en M €  \\\n",
              "Paris Saint-Germain               1974                 637   \n",
              "LOSC Lille                        2000                 120   \n",
              "Olympique lyonnais                1989                 310   \n",
              "AS Saint-Étienne                  2004                 100   \n",
              "Olympique de Marseille            1996                 110   \n",
              "Montpellier HSC                   2009                  40   \n",
              "OGC Nice                          2002                  50   \n",
              "Stade de Reims                    2018                  45   \n",
              "Nîmes Olympique                   2018                  27   \n",
              "Stade rennais FC                  1994                  65   \n",
              "RC Strasbourg Alsace              2017                  43   \n",
              "FC Nantes                         2013                  70   \n",
              "SCO d’Angers                      2015                  32   \n",
              "Girondins de Bordeaux             1992                  70   \n",
              "Amiens SC                         2017                  30   \n",
              "Toulouse FC                       2003                  35   \n",
              "AS Monaco                         2013                 220   \n",
              "Dijon FCO                         2016                  38   \n",
              "FC Metz                           2019                  40   \n",
              "Stade brestois 29                 2019                  30   \n",
              "\n",
              "                       Classement 2018-2019           Entraîneur Depuis  \\\n",
              "Paris Saint-Germain                     1er        Thomas Tuchel   2018   \n",
              "LOSC Lille                               2e   Christophe Galtier   2017   \n",
              "Olympique lyonnais                       3e          Rudi Garcia   2019   \n",
              "AS Saint-Étienne                         4e          Claude Puel   2019   \n",
              "Olympique de Marseille                   5e    André Villas-Boas   2019   \n",
              "Montpellier HSC                          6e  Michel Der Zakarian   2017   \n",
              "OGC Nice                                 7e       Patrick Vieira   2018   \n",
              "Stade de Reims                           8e          David Guion   2017   \n",
              "Nîmes Olympique                          9e     Bernard Blaquart   2015   \n",
              "Stade rennais FC                        10e       Julien Stéphan   2018   \n",
              "RC Strasbourg Alsace                    11e       Thierry Laurey   2016   \n",
              "FC Nantes                               12e   Christian Gourcuff   2019   \n",
              "SCO d’Angers                            13e      Stéphane Moulin   2011   \n",
              "Girondins de Bordeaux                   14e          Paulo Sousa   2019   \n",
              "Amiens SC                               15e          Luka Elsner   2019   \n",
              "Toulouse FC                             16e          Denis Zanko   2020   \n",
              "AS Monaco                               17e        Robert Moreno   2019   \n",
              "Dijon FCO                               18e      Stéphane Jobard   2019   \n",
              "FC Metz                       1er (Ligue 2)       Vincent Hognon   2019   \n",
              "Stade brestois 29              2e (Ligue 2)   Olivier Dall'Oglio   2019   \n",
              "\n",
              "                                                          Stade  \\\n",
              "Paris Saint-Germain                            Parc des Princes   \n",
              "LOSC Lille                                  Stade Pierre-Mauroy   \n",
              "Olympique lyonnais                             Groupama Stadium   \n",
              "AS Saint-Étienne                        Stade Geoffroy-Guichard   \n",
              "Olympique de Marseille                         Orange Vélodrome   \n",
              "Montpellier HSC                              Stade de la Mosson   \n",
              "OGC Nice                                        Allianz Riviera   \n",
              "Stade de Reims                            Stade Auguste-Delaune   \n",
              "Nîmes Olympique                             Stade des Costières   \n",
              "Stade rennais FC                                   Roazhon Park   \n",
              "RC Strasbourg Alsace                         Stade de la Meinau   \n",
              "FC Nantes               Stade de la Beaujoire - Louis Fonteneau   \n",
              "SCO d’Angers                                 Stade Raymond-Kopa   \n",
              "Girondins de Bordeaux                         Matmut Atlantique   \n",
              "Amiens SC                      Stade Crédit Agricole la Licorne   \n",
              "Toulouse FC                                 Stadium de Toulouse   \n",
              "AS Monaco                                        Stade Louis-II   \n",
              "Dijon FCO                         Parc des Sports Gaston-Gérard   \n",
              "FC Metz                                  Stade Saint-Symphorien   \n",
              "Stade brestois 29                          Stade Francis-Le Blé   \n",
              "\n",
              "                       Capacité en L1 [ 4 ] Nombre de saisons en L1  \n",
              "Paris Saint-Germain                  47 929                      46  \n",
              "LOSC Lille                           49 712                      59  \n",
              "Olympique lyonnais                   57 206                      60  \n",
              "AS Saint-Étienne                     41 965                      66  \n",
              "Olympique de Marseille               66 226                      69  \n",
              "Montpellier HSC                      22 000                      27  \n",
              "OGC Nice                             35 596                      60  \n",
              "Stade de Reims                       20 546                      35  \n",
              "Nîmes Olympique                      15 788                      35  \n",
              "Stade rennais FC                     29 194                      62  \n",
              "RC Strasbourg Alsace                 26 109                      58  \n",
              "FC Nantes                            35 322                      51  \n",
              "SCO d’Angers                         14 582                      27  \n",
              "Girondins de Bordeaux                42 115                      66  \n",
              "Amiens SC                            12 999                       2  \n",
              "Toulouse FC                          33 033                      32  \n",
              "AS Monaco                            16 500                      60  \n",
              "Dijon FCO                            15 459                       4  \n",
              "FC Metz                              25 865                      61  \n",
              "Stade brestois 29                    14 920                      13  "
            ],
            "text/html": [
              "\n",
              "  <div id=\"df-c652671d-9e94-4dff-be1c-036c9885b44f\">\n",
              "    <div class=\"colab-df-container\">\n",
              "      <div>\n",
              "<style scoped>\n",
              "    .dataframe tbody tr th:only-of-type {\n",
              "        vertical-align: middle;\n",
              "    }\n",
              "\n",
              "    .dataframe tbody tr th {\n",
              "        vertical-align: top;\n",
              "    }\n",
              "\n",
              "    .dataframe thead th {\n",
              "        text-align: right;\n",
              "    }\n",
              "</style>\n",
              "<table border=\"1\" class=\"dataframe\">\n",
              "  <thead>\n",
              "    <tr style=\"text-align: right;\">\n",
              "      <th></th>\n",
              "      <th>Dernière montée</th>\n",
              "      <th>Budget [ 3 ] en M €</th>\n",
              "      <th>Classement 2018-2019</th>\n",
              "      <th>Entraîneur</th>\n",
              "      <th>Depuis</th>\n",
              "      <th>Stade</th>\n",
              "      <th>Capacité en L1 [ 4 ]</th>\n",
              "      <th>Nombre de saisons en L1</th>\n",
              "    </tr>\n",
              "  </thead>\n",
              "  <tbody>\n",
              "    <tr>\n",
              "      <th>Paris Saint-Germain</th>\n",
              "      <td>1974</td>\n",
              "      <td>637</td>\n",
              "      <td>1er</td>\n",
              "      <td>Thomas Tuchel</td>\n",
              "      <td>2018</td>\n",
              "      <td>Parc des Princes</td>\n",
              "      <td>47 929</td>\n",
              "      <td>46</td>\n",
              "    </tr>\n",
              "    <tr>\n",
              "      <th>LOSC Lille</th>\n",
              "      <td>2000</td>\n",
              "      <td>120</td>\n",
              "      <td>2e</td>\n",
              "      <td>Christophe Galtier</td>\n",
              "      <td>2017</td>\n",
              "      <td>Stade Pierre-Mauroy</td>\n",
              "      <td>49 712</td>\n",
              "      <td>59</td>\n",
              "    </tr>\n",
              "    <tr>\n",
              "      <th>Olympique lyonnais</th>\n",
              "      <td>1989</td>\n",
              "      <td>310</td>\n",
              "      <td>3e</td>\n",
              "      <td>Rudi Garcia</td>\n",
              "      <td>2019</td>\n",
              "      <td>Groupama Stadium</td>\n",
              "      <td>57 206</td>\n",
              "      <td>60</td>\n",
              "    </tr>\n",
              "    <tr>\n",
              "      <th>AS Saint-Étienne</th>\n",
              "      <td>2004</td>\n",
              "      <td>100</td>\n",
              "      <td>4e</td>\n",
              "      <td>Claude Puel</td>\n",
              "      <td>2019</td>\n",
              "      <td>Stade Geoffroy-Guichard</td>\n",
              "      <td>41 965</td>\n",
              "      <td>66</td>\n",
              "    </tr>\n",
              "    <tr>\n",
              "      <th>Olympique de Marseille</th>\n",
              "      <td>1996</td>\n",
              "      <td>110</td>\n",
              "      <td>5e</td>\n",
              "      <td>André Villas-Boas</td>\n",
              "      <td>2019</td>\n",
              "      <td>Orange Vélodrome</td>\n",
              "      <td>66 226</td>\n",
              "      <td>69</td>\n",
              "    </tr>\n",
              "    <tr>\n",
              "      <th>Montpellier HSC</th>\n",
              "      <td>2009</td>\n",
              "      <td>40</td>\n",
              "      <td>6e</td>\n",
              "      <td>Michel Der Zakarian</td>\n",
              "      <td>2017</td>\n",
              "      <td>Stade de la Mosson</td>\n",
              "      <td>22 000</td>\n",
              "      <td>27</td>\n",
              "    </tr>\n",
              "    <tr>\n",
              "      <th>OGC Nice</th>\n",
              "      <td>2002</td>\n",
              "      <td>50</td>\n",
              "      <td>7e</td>\n",
              "      <td>Patrick Vieira</td>\n",
              "      <td>2018</td>\n",
              "      <td>Allianz Riviera</td>\n",
              "      <td>35 596</td>\n",
              "      <td>60</td>\n",
              "    </tr>\n",
              "    <tr>\n",
              "      <th>Stade de Reims</th>\n",
              "      <td>2018</td>\n",
              "      <td>45</td>\n",
              "      <td>8e</td>\n",
              "      <td>David Guion</td>\n",
              "      <td>2017</td>\n",
              "      <td>Stade Auguste-Delaune</td>\n",
              "      <td>20 546</td>\n",
              "      <td>35</td>\n",
              "    </tr>\n",
              "    <tr>\n",
              "      <th>Nîmes Olympique</th>\n",
              "      <td>2018</td>\n",
              "      <td>27</td>\n",
              "      <td>9e</td>\n",
              "      <td>Bernard Blaquart</td>\n",
              "      <td>2015</td>\n",
              "      <td>Stade des Costières</td>\n",
              "      <td>15 788</td>\n",
              "      <td>35</td>\n",
              "    </tr>\n",
              "    <tr>\n",
              "      <th>Stade rennais FC</th>\n",
              "      <td>1994</td>\n",
              "      <td>65</td>\n",
              "      <td>10e</td>\n",
              "      <td>Julien Stéphan</td>\n",
              "      <td>2018</td>\n",
              "      <td>Roazhon Park</td>\n",
              "      <td>29 194</td>\n",
              "      <td>62</td>\n",
              "    </tr>\n",
              "    <tr>\n",
              "      <th>RC Strasbourg Alsace</th>\n",
              "      <td>2017</td>\n",
              "      <td>43</td>\n",
              "      <td>11e</td>\n",
              "      <td>Thierry Laurey</td>\n",
              "      <td>2016</td>\n",
              "      <td>Stade de la Meinau</td>\n",
              "      <td>26 109</td>\n",
              "      <td>58</td>\n",
              "    </tr>\n",
              "    <tr>\n",
              "      <th>FC Nantes</th>\n",
              "      <td>2013</td>\n",
              "      <td>70</td>\n",
              "      <td>12e</td>\n",
              "      <td>Christian Gourcuff</td>\n",
              "      <td>2019</td>\n",
              "      <td>Stade de la Beaujoire - Louis Fonteneau</td>\n",
              "      <td>35 322</td>\n",
              "      <td>51</td>\n",
              "    </tr>\n",
              "    <tr>\n",
              "      <th>SCO d’Angers</th>\n",
              "      <td>2015</td>\n",
              "      <td>32</td>\n",
              "      <td>13e</td>\n",
              "      <td>Stéphane Moulin</td>\n",
              "      <td>2011</td>\n",
              "      <td>Stade Raymond-Kopa</td>\n",
              "      <td>14 582</td>\n",
              "      <td>27</td>\n",
              "    </tr>\n",
              "    <tr>\n",
              "      <th>Girondins de Bordeaux</th>\n",
              "      <td>1992</td>\n",
              "      <td>70</td>\n",
              "      <td>14e</td>\n",
              "      <td>Paulo Sousa</td>\n",
              "      <td>2019</td>\n",
              "      <td>Matmut Atlantique</td>\n",
              "      <td>42 115</td>\n",
              "      <td>66</td>\n",
              "    </tr>\n",
              "    <tr>\n",
              "      <th>Amiens SC</th>\n",
              "      <td>2017</td>\n",
              "      <td>30</td>\n",
              "      <td>15e</td>\n",
              "      <td>Luka Elsner</td>\n",
              "      <td>2019</td>\n",
              "      <td>Stade Crédit Agricole la Licorne</td>\n",
              "      <td>12 999</td>\n",
              "      <td>2</td>\n",
              "    </tr>\n",
              "    <tr>\n",
              "      <th>Toulouse FC</th>\n",
              "      <td>2003</td>\n",
              "      <td>35</td>\n",
              "      <td>16e</td>\n",
              "      <td>Denis Zanko</td>\n",
              "      <td>2020</td>\n",
              "      <td>Stadium de Toulouse</td>\n",
              "      <td>33 033</td>\n",
              "      <td>32</td>\n",
              "    </tr>\n",
              "    <tr>\n",
              "      <th>AS Monaco</th>\n",
              "      <td>2013</td>\n",
              "      <td>220</td>\n",
              "      <td>17e</td>\n",
              "      <td>Robert Moreno</td>\n",
              "      <td>2019</td>\n",
              "      <td>Stade Louis-II</td>\n",
              "      <td>16 500</td>\n",
              "      <td>60</td>\n",
              "    </tr>\n",
              "    <tr>\n",
              "      <th>Dijon FCO</th>\n",
              "      <td>2016</td>\n",
              "      <td>38</td>\n",
              "      <td>18e</td>\n",
              "      <td>Stéphane Jobard</td>\n",
              "      <td>2019</td>\n",
              "      <td>Parc des Sports Gaston-Gérard</td>\n",
              "      <td>15 459</td>\n",
              "      <td>4</td>\n",
              "    </tr>\n",
              "    <tr>\n",
              "      <th>FC Metz</th>\n",
              "      <td>2019</td>\n",
              "      <td>40</td>\n",
              "      <td>1er (Ligue 2)</td>\n",
              "      <td>Vincent Hognon</td>\n",
              "      <td>2019</td>\n",
              "      <td>Stade Saint-Symphorien</td>\n",
              "      <td>25 865</td>\n",
              "      <td>61</td>\n",
              "    </tr>\n",
              "    <tr>\n",
              "      <th>Stade brestois 29</th>\n",
              "      <td>2019</td>\n",
              "      <td>30</td>\n",
              "      <td>2e (Ligue 2)</td>\n",
              "      <td>Olivier Dall'Oglio</td>\n",
              "      <td>2019</td>\n",
              "      <td>Stade Francis-Le Blé</td>\n",
              "      <td>14 920</td>\n",
              "      <td>13</td>\n",
              "    </tr>\n",
              "  </tbody>\n",
              "</table>\n",
              "</div>\n",
              "      <button class=\"colab-df-convert\" onclick=\"convertToInteractive('df-c652671d-9e94-4dff-be1c-036c9885b44f')\"\n",
              "              title=\"Convert this dataframe to an interactive table.\"\n",
              "              style=\"display:none;\">\n",
              "        \n",
              "  <svg xmlns=\"http://www.w3.org/2000/svg\" height=\"24px\"viewBox=\"0 0 24 24\"\n",
              "       width=\"24px\">\n",
              "    <path d=\"M0 0h24v24H0V0z\" fill=\"none\"/>\n",
              "    <path d=\"M18.56 5.44l.94 2.06.94-2.06 2.06-.94-2.06-.94-.94-2.06-.94 2.06-2.06.94zm-11 1L8.5 8.5l.94-2.06 2.06-.94-2.06-.94L8.5 2.5l-.94 2.06-2.06.94zm10 10l.94 2.06.94-2.06 2.06-.94-2.06-.94-.94-2.06-.94 2.06-2.06.94z\"/><path d=\"M17.41 7.96l-1.37-1.37c-.4-.4-.92-.59-1.43-.59-.52 0-1.04.2-1.43.59L10.3 9.45l-7.72 7.72c-.78.78-.78 2.05 0 2.83L4 21.41c.39.39.9.59 1.41.59.51 0 1.02-.2 1.41-.59l7.78-7.78 2.81-2.81c.8-.78.8-2.07 0-2.86zM5.41 20L4 18.59l7.72-7.72 1.47 1.35L5.41 20z\"/>\n",
              "  </svg>\n",
              "      </button>\n",
              "      \n",
              "  <style>\n",
              "    .colab-df-container {\n",
              "      display:flex;\n",
              "      flex-wrap:wrap;\n",
              "      gap: 12px;\n",
              "    }\n",
              "\n",
              "    .colab-df-convert {\n",
              "      background-color: #E8F0FE;\n",
              "      border: none;\n",
              "      border-radius: 50%;\n",
              "      cursor: pointer;\n",
              "      display: none;\n",
              "      fill: #1967D2;\n",
              "      height: 32px;\n",
              "      padding: 0 0 0 0;\n",
              "      width: 32px;\n",
              "    }\n",
              "\n",
              "    .colab-df-convert:hover {\n",
              "      background-color: #E2EBFA;\n",
              "      box-shadow: 0px 1px 2px rgba(60, 64, 67, 0.3), 0px 1px 3px 1px rgba(60, 64, 67, 0.15);\n",
              "      fill: #174EA6;\n",
              "    }\n",
              "\n",
              "    [theme=dark] .colab-df-convert {\n",
              "      background-color: #3B4455;\n",
              "      fill: #D2E3FC;\n",
              "    }\n",
              "\n",
              "    [theme=dark] .colab-df-convert:hover {\n",
              "      background-color: #434B5C;\n",
              "      box-shadow: 0px 1px 3px 1px rgba(0, 0, 0, 0.15);\n",
              "      filter: drop-shadow(0px 1px 2px rgba(0, 0, 0, 0.3));\n",
              "      fill: #FFFFFF;\n",
              "    }\n",
              "  </style>\n",
              "\n",
              "      <script>\n",
              "        const buttonEl =\n",
              "          document.querySelector('#df-c652671d-9e94-4dff-be1c-036c9885b44f button.colab-df-convert');\n",
              "        buttonEl.style.display =\n",
              "          google.colab.kernel.accessAllowed ? 'block' : 'none';\n",
              "\n",
              "        async function convertToInteractive(key) {\n",
              "          const element = document.querySelector('#df-c652671d-9e94-4dff-be1c-036c9885b44f');\n",
              "          const dataTable =\n",
              "            await google.colab.kernel.invokeFunction('convertToInteractive',\n",
              "                                                     [key], {});\n",
              "          if (!dataTable) return;\n",
              "\n",
              "          const docLinkHtml = 'Like what you see? Visit the ' +\n",
              "            '<a target=\"_blank\" href=https://colab.research.google.com/notebooks/data_table.ipynb>data table notebook</a>'\n",
              "            + ' to learn more about interactive tables.';\n",
              "          element.innerHTML = '';\n",
              "          dataTable['output_type'] = 'display_data';\n",
              "          await google.colab.output.renderOutput(dataTable, element);\n",
              "          const docLink = document.createElement('div');\n",
              "          docLink.innerHTML = docLinkHtml;\n",
              "          element.appendChild(docLink);\n",
              "        }\n",
              "      </script>\n",
              "    </div>\n",
              "  </div>\n",
              "  "
            ]
          },
          "metadata": {},
          "execution_count": 38
        }
      ]
    },
    {
      "cell_type": "code",
      "source": [
        "#enregistrement sous excel\n",
        "file_name = 'Liste_participants.xlsx'\n",
        "#data_p= pandas.ExcelWriter('participants.xlsx')\n",
        "data_participants.to_excel(file_name,sheet_name='Equipes')"
      ],
      "metadata": {
        "id": "p0LNaGNRyjrv"
      },
      "execution_count": null,
      "outputs": []
    }
  ]
}